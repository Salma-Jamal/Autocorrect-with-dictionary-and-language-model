{
  "nbformat": 4,
  "nbformat_minor": 0,
  "metadata": {
    "colab": {
      "name": "ae.ipynb",
      "provenance": [],
      "collapsed_sections": [],
      "authorship_tag": "ABX9TyPaDlb8hY9tjo+b5lhgg53B"
    },
    "kernelspec": {
      "name": "python3",
      "display_name": "Python 3"
    },
    "language_info": {
      "name": "python"
    },
    "accelerator": "GPU"
  },
  "cells": [
    {
      "cell_type": "code",
      "metadata": {
        "id": "nSld_eui4qmA"
      },
      "source": [
        "!gdown --id 1KIRvJyDcLVsKm206Ge8A6pqylg1NA65S\n",
        "!unzip /content/QALB-0.9.0-May04-2021-SharedTask.zip"
      ],
      "execution_count": null,
      "outputs": []
    },
    {
      "cell_type": "code",
      "metadata": {
        "id": "Gz8Pa3DD4z_j"
      },
      "source": [
        "import pandas as pd\n",
        "import numpy as np\n",
        "import re"
      ],
      "execution_count": null,
      "outputs": []
    },
    {
      "cell_type": "code",
      "metadata": {
        "id": "1tEekmtE5emj"
      },
      "source": [
        "def read_data(Lines):\n",
        "  newline = [i for i in range(len(Lines)) if Lines[i] == '\\n' ]\n",
        "  sen =[]\n",
        "  all = []\n",
        "  for i in range(len(newline)):\n",
        "    if i == 0:\n",
        "      sen = Lines[0:newline[i]]\n",
        "      all.append(sen)\n",
        "    else:\n",
        "      sen = Lines[newline[i-1]+1:newline[i]]\n",
        "      all.append(sen)\n",
        "  return all"
      ],
      "execution_count": null,
      "outputs": []
    },
    {
      "cell_type": "code",
      "metadata": {
        "id": "4krNZnCI5tIm"
      },
      "source": [
        "def parse_correction(correction_line):\n",
        "  correction_line = correction_line[2:].split('|||') \n",
        "  start_id, end_id = map(int, correction_line[0].split())\n",
        "  return (start_id, end_id, correction_line[1], correction_line[2])"
      ],
      "execution_count": null,
      "outputs": []
    },
    {
      "cell_type": "code",
      "metadata": {
        "id": "_-kGk3ACdHtr"
      },
      "source": [
        "def parse_data(data):\n",
        "  all_edited = []\n",
        "  for lst in data:\n",
        "    for i in range(len(lst)):\n",
        "      if i == 0:\n",
        "        lst[i] = lst[i].split('S')[1].split('\\n')[0]\n",
        "      else:\n",
        "        lst[i]  = parse_correction(lst[i])\n",
        "    all_edited.append(lst)\n",
        "  return all_edited"
      ],
      "execution_count": null,
      "outputs": []
    },
    {
      "cell_type": "code",
      "metadata": {
        "id": "GjoxHKZKf6Z3"
      },
      "source": [
        "def apply_corrections(text, corrections):\n",
        "  words = text.split()\n",
        "  for start, end, _, content in reversed(corrections):\n",
        "    words = words[:start] + content.split() + words[end:]\n",
        "  return ' '.join(words)"
      ],
      "execution_count": null,
      "outputs": []
    },
    {
      "cell_type": "code",
      "metadata": {
        "id": "JW97r0yQk_kv"
      },
      "source": [
        "train_df = pd.DataFrame({\n",
        "    'original': [],\n",
        "    'corrected': []\n",
        "}) \n",
        "test_df = pd.DataFrame({\n",
        "    'original': [],\n",
        "    'corrected': []\n",
        "}) \n",
        "dev_df = pd.DataFrame({\n",
        "    'original': [],\n",
        "    'corrected': []\n",
        "}) "
      ],
      "execution_count": null,
      "outputs": []
    },
    {
      "cell_type": "code",
      "metadata": {
        "id": "06DoXsZi46l0"
      },
      "source": [
        "test_m2 = open('/content/QALB-0.9.0-May04-2021-SharedTask/data/QALB-Train2014.m2')\n",
        "m = test_m2.readlines()"
      ],
      "execution_count": null,
      "outputs": []
    },
    {
      "cell_type": "code",
      "metadata": {
        "id": "1uQ4rBbM5pQw"
      },
      "source": [
        "all = read_data(m)"
      ],
      "execution_count": null,
      "outputs": []
    },
    {
      "cell_type": "code",
      "metadata": {
        "colab": {
          "base_uri": "https://localhost:8080/"
        },
        "id": "s0wZUAFRqGcr",
        "outputId": "b6ced3db-f2bc-4552-962b-2af8ac97c931"
      },
      "source": [
        "all[0]"
      ],
      "execution_count": null,
      "outputs": [
        {
          "output_type": "execute_result",
          "data": {
            "text/plain": [
              "['S الى التعليق رقم 2 اكيد ان لحكام العرب والمسلمين مسؤولية يتمثل ادناها في استدعاء السفراء في الصين للتشاور . فليتهم يفعلونها ولو مرة . ولنا نحن كشعوب مسؤولية كذالك تتمثل في مساندة اخواننا في الصين بمقاطعة البضائع الصينينة وليتنا نفعلها ولو ثلاتة اشهر .\\n',\n",
              " 'A 0 1|||Edit|||إلى|||REQUIRED|||-NONE-|||0\\n',\n",
              " 'A 4 4|||Add_before|||:|||REQUIRED|||-NONE-|||0\\n',\n",
              " 'A 4 5|||Edit|||أكيد|||REQUIRED|||-NONE-|||0\\n',\n",
              " 'A 5 6|||Edit|||أن|||REQUIRED|||-NONE-|||0\\n',\n",
              " 'A 6 7|||Edit|||للحكام|||REQUIRED|||-NONE-|||0\\n',\n",
              " 'A 11 12|||Edit|||أدناها|||REQUIRED|||-NONE-|||0\\n',\n",
              " 'A 23 24|||Edit|||!|||REQUIRED|||-NONE-|||0\\n',\n",
              " 'A 28 29|||Edit|||كذلك|||REQUIRED|||-NONE-|||0\\n',\n",
              " 'A 32 33|||Edit|||إخواننا|||REQUIRED|||-NONE-|||0\\n',\n",
              " 'A 37 38|||Edit|||الصينية|||REQUIRED|||-NONE-|||0\\n',\n",
              " 'A 38 38|||Add_before|||.|||REQUIRED|||-NONE-|||0\\n',\n",
              " 'A 41 42|||Edit|||ثلاثة|||REQUIRED|||-NONE-|||0\\n',\n",
              " 'A 42 43|||Edit|||أشهر|||REQUIRED|||-NONE-|||0\\n',\n",
              " 'A 43 44|||Edit|||!|||REQUIRED|||-NONE-|||0\\n']"
            ]
          },
          "metadata": {
            "tags": []
          },
          "execution_count": 116
        }
      ]
    },
    {
      "cell_type": "code",
      "metadata": {
        "colab": {
          "base_uri": "https://localhost:8080/"
        },
        "id": "jHxI16jEkX6q",
        "outputId": "8af97864-fdf9-421f-cbc3-fc6774e7bf6c"
      },
      "source": [
        "all_edited = parse_data(all)\n",
        "all_edited[0]"
      ],
      "execution_count": null,
      "outputs": [
        {
          "output_type": "execute_result",
          "data": {
            "text/plain": [
              "[' الى التعليق رقم 2 اكيد ان لحكام العرب والمسلمين مسؤولية يتمثل ادناها في استدعاء السفراء في الصين للتشاور . فليتهم يفعلونها ولو مرة . ولنا نحن كشعوب مسؤولية كذالك تتمثل في مساندة اخواننا في الصين بمقاطعة البضائع الصينينة وليتنا نفعلها ولو ثلاتة اشهر .',\n",
              " (0, 1, 'Edit', 'إلى'),\n",
              " (4, 4, 'Add_before', ':'),\n",
              " (4, 5, 'Edit', 'أكيد'),\n",
              " (5, 6, 'Edit', 'أن'),\n",
              " (6, 7, 'Edit', 'للحكام'),\n",
              " (11, 12, 'Edit', 'أدناها'),\n",
              " (23, 24, 'Edit', '!'),\n",
              " (28, 29, 'Edit', 'كذلك'),\n",
              " (32, 33, 'Edit', 'إخواننا'),\n",
              " (37, 38, 'Edit', 'الصينية'),\n",
              " (38, 38, 'Add_before', '.'),\n",
              " (41, 42, 'Edit', 'ثلاثة'),\n",
              " (42, 43, 'Edit', 'أشهر'),\n",
              " (43, 44, 'Edit', '!')]"
            ]
          },
          "metadata": {
            "tags": []
          },
          "execution_count": 117
        }
      ]
    },
    {
      "cell_type": "code",
      "metadata": {
        "id": "uDqhZgiNl4wl"
      },
      "source": [
        "for i in range(len(all_edited)):\n",
        "  train_df = train_df.append({'original': all_edited[i][0],\n",
        "                              'corrected': apply_corrections(all_edited[i][0],all_edited[i][1:])}, ignore_index=True)"
      ],
      "execution_count": null,
      "outputs": []
    },
    {
      "cell_type": "code",
      "metadata": {
        "colab": {
          "base_uri": "https://localhost:8080/",
          "height": 406
        },
        "id": "aiH3GYarl5rY",
        "outputId": "8e97e079-4142-4a42-b0f6-53d4ebd15be6"
      },
      "source": [
        "train_df"
      ],
      "execution_count": null,
      "outputs": [
        {
          "output_type": "execute_result",
          "data": {
            "text/html": [
              "<div>\n",
              "<style scoped>\n",
              "    .dataframe tbody tr th:only-of-type {\n",
              "        vertical-align: middle;\n",
              "    }\n",
              "\n",
              "    .dataframe tbody tr th {\n",
              "        vertical-align: top;\n",
              "    }\n",
              "\n",
              "    .dataframe thead th {\n",
              "        text-align: right;\n",
              "    }\n",
              "</style>\n",
              "<table border=\"1\" class=\"dataframe\">\n",
              "  <thead>\n",
              "    <tr style=\"text-align: right;\">\n",
              "      <th></th>\n",
              "      <th>original</th>\n",
              "      <th>corrected</th>\n",
              "    </tr>\n",
              "  </thead>\n",
              "  <tbody>\n",
              "    <tr>\n",
              "      <th>0</th>\n",
              "      <td>الى التعليق رقم 2 اكيد ان لحكام العرب والمسلم...</td>\n",
              "      <td>إلى التعليق رقم 2 : أكيد أن للحكام العرب والمس...</td>\n",
              "    </tr>\n",
              "    <tr>\n",
              "      <th>1</th>\n",
              "      <td>نحن ببالغ الاسى نعزي ضحايا الحادث الاليم الذي...</td>\n",
              "      <td>نحن ببالغ الأسى نعزي ضحايا الحادث الأليم الذي ...</td>\n",
              "    </tr>\n",
              "    <tr>\n",
              "      <th>2</th>\n",
              "      <td>للاسف ان الدم المهدور عراقي لكن بشكل عام لماذ...</td>\n",
              "      <td>للأسف إن الدم المهدور عراقي ، لكن بشكل عام لما...</td>\n",
              "    </tr>\n",
              "    <tr>\n",
              "      <th>3</th>\n",
              "      <td>واصل الثوار أنتصاراتهم وحررو كل حقول النفط ال...</td>\n",
              "      <td>واصل الثوار انتصاراتهم وحرروا كل حقول النفط ال...</td>\n",
              "    </tr>\n",
              "    <tr>\n",
              "      <th>4</th>\n",
              "      <td>يا حرام على ما يدعو نفسهم شبيحة الأسد وحزب ال...</td>\n",
              "      <td>يا حرام على من يدعون نفسهم شبيحة الأسد وحزب ال...</td>\n",
              "    </tr>\n",
              "    <tr>\n",
              "      <th>...</th>\n",
              "      <td>...</td>\n",
              "      <td>...</td>\n",
              "    </tr>\n",
              "    <tr>\n",
              "      <th>19406</th>\n",
              "      <td>ياعالم اطفالناونسائنا وشبابنا يقتلون ليلا ونه...</td>\n",
              "      <td>يا عالم أطفالنا ونساؤنا وشبابنا يقتلون ليلا ون...</td>\n",
              "    </tr>\n",
              "    <tr>\n",
              "      <th>19407</th>\n",
              "      <td>بسم الله الرحمن الرحيم : قالوا للمرى ( أمرأة ...</td>\n",
              "      <td>بسم الله الرحمن الرحيم . قالوا للمرى ( امرأة )...</td>\n",
              "    </tr>\n",
              "    <tr>\n",
              "      <th>19408</th>\n",
              "      <td>الله الله علي الظالمين ومن والاهم وهنيئا للمج...</td>\n",
              "      <td>الله الله على الظالمين ومن والاهم ، وهنيئا للم...</td>\n",
              "    </tr>\n",
              "    <tr>\n",
              "      <th>19409</th>\n",
              "      <td>ان قيادة فتح لـ م ت ف وقيادة هذه للشعب لسنوات...</td>\n",
              "      <td>إن قيادة فتح لم تف . وقيادة هذه للشعب لسنوات ه...</td>\n",
              "    </tr>\n",
              "    <tr>\n",
              "      <th>19410</th>\n",
              "      <td>كانت الجزيرة تنقل الاخبار عن سوريا وانا في سو...</td>\n",
              "      <td>كانت الجزيرة تنقل الأخبار عن سوريا وأنا في سور...</td>\n",
              "    </tr>\n",
              "  </tbody>\n",
              "</table>\n",
              "<p>19411 rows × 2 columns</p>\n",
              "</div>"
            ],
            "text/plain": [
              "                                                original                                          corrected\n",
              "0       الى التعليق رقم 2 اكيد ان لحكام العرب والمسلم...  إلى التعليق رقم 2 : أكيد أن للحكام العرب والمس...\n",
              "1       نحن ببالغ الاسى نعزي ضحايا الحادث الاليم الذي...  نحن ببالغ الأسى نعزي ضحايا الحادث الأليم الذي ...\n",
              "2       للاسف ان الدم المهدور عراقي لكن بشكل عام لماذ...  للأسف إن الدم المهدور عراقي ، لكن بشكل عام لما...\n",
              "3       واصل الثوار أنتصاراتهم وحررو كل حقول النفط ال...  واصل الثوار انتصاراتهم وحرروا كل حقول النفط ال...\n",
              "4       يا حرام على ما يدعو نفسهم شبيحة الأسد وحزب ال...  يا حرام على من يدعون نفسهم شبيحة الأسد وحزب ال...\n",
              "...                                                  ...                                                ...\n",
              "19406   ياعالم اطفالناونسائنا وشبابنا يقتلون ليلا ونه...  يا عالم أطفالنا ونساؤنا وشبابنا يقتلون ليلا ون...\n",
              "19407   بسم الله الرحمن الرحيم : قالوا للمرى ( أمرأة ...  بسم الله الرحمن الرحيم . قالوا للمرى ( امرأة )...\n",
              "19408   الله الله علي الظالمين ومن والاهم وهنيئا للمج...  الله الله على الظالمين ومن والاهم ، وهنيئا للم...\n",
              "19409   ان قيادة فتح لـ م ت ف وقيادة هذه للشعب لسنوات...  إن قيادة فتح لم تف . وقيادة هذه للشعب لسنوات ه...\n",
              "19410   كانت الجزيرة تنقل الاخبار عن سوريا وانا في سو...  كانت الجزيرة تنقل الأخبار عن سوريا وأنا في سور...\n",
              "\n",
              "[19411 rows x 2 columns]"
            ]
          },
          "metadata": {
            "tags": []
          },
          "execution_count": 119
        }
      ]
    },
    {
      "cell_type": "code",
      "metadata": {
        "id": "EseApsE9pH33"
      },
      "source": [
        "test_m2 = open('/content/QALB-0.9.0-May04-2021-SharedTask/data/QALB-Test2014.m2')\n",
        "m = test_m2.readlines()\n",
        "all = read_data(m)\n",
        "all_edited = parse_data(all)\n",
        "for i in range(len(all_edited)):\n",
        "  test_df = test_df.append({'original': all_edited[i][0],\n",
        "                              'corrected': apply_corrections(all_edited[i][0],all_edited[i][1:])}, ignore_index=True)"
      ],
      "execution_count": null,
      "outputs": []
    },
    {
      "cell_type": "code",
      "metadata": {
        "colab": {
          "base_uri": "https://localhost:8080/",
          "height": 406
        },
        "id": "w8TBWPPfrroK",
        "outputId": "9a1b3966-3f25-4f11-ac34-a0ecaca9220b"
      },
      "source": [
        "test_df"
      ],
      "execution_count": null,
      "outputs": [
        {
          "output_type": "execute_result",
          "data": {
            "text/html": [
              "<div>\n",
              "<style scoped>\n",
              "    .dataframe tbody tr th:only-of-type {\n",
              "        vertical-align: middle;\n",
              "    }\n",
              "\n",
              "    .dataframe tbody tr th {\n",
              "        vertical-align: top;\n",
              "    }\n",
              "\n",
              "    .dataframe thead th {\n",
              "        text-align: right;\n",
              "    }\n",
              "</style>\n",
              "<table border=\"1\" class=\"dataframe\">\n",
              "  <thead>\n",
              "    <tr style=\"text-align: right;\">\n",
              "      <th></th>\n",
              "      <th>original</th>\n",
              "      <th>corrected</th>\n",
              "    </tr>\n",
              "  </thead>\n",
              "  <tbody>\n",
              "    <tr>\n",
              "      <th>0</th>\n",
              "      <td>لا زال كبير الشبيحه يظن ان ارواح وآلام الناس ...</td>\n",
              "      <td>لازال كبير الشبيحة يظن أن أرواح وآلام الناس أق...</td>\n",
              "    </tr>\n",
              "    <tr>\n",
              "      <th>1</th>\n",
              "      <td>تراهنون يا امريكان و يا اذنابهم على مارس طيب ...</td>\n",
              "      <td>تراهنون يا أمريكان ويا أذنابهم على مارس ، طيب ...</td>\n",
              "    </tr>\n",
              "    <tr>\n",
              "      <th>2</th>\n",
              "      <td>يشاع إعتقاد في المجال الجنائي أن اللص لا يميل...</td>\n",
              "      <td>يشاع اعتقاد في المجال الجنائي أن اللص لا يميل ...</td>\n",
              "    </tr>\n",
              "    <tr>\n",
              "      <th>3</th>\n",
              "      <td>تعجبني المظاهرات في حمص هنا وهناك مثل ما راين...</td>\n",
              "      <td>تعجبني المظاهرات في حمص هنا وهناك مثل ما رأينا...</td>\n",
              "    </tr>\n",
              "    <tr>\n",
              "      <th>4</th>\n",
              "      <td>الى مشاركه 56 انت تتكلم بالعكس الاحرار هم الذ...</td>\n",
              "      <td>إلى مشاركة 56 ، أنت تتكلم بالعكس ، الأحرار هم ...</td>\n",
              "    </tr>\n",
              "    <tr>\n",
              "      <th>...</th>\n",
              "      <td>...</td>\n",
              "      <td>...</td>\n",
              "    </tr>\n",
              "    <tr>\n",
              "      <th>963</th>\n",
              "      <td>رحم الله شهداءنا الابرار ايها الارهابي الحقير...</td>\n",
              "      <td>رحم الله شهداءنا الأبرار . أيها الإرهابيُّ الح...</td>\n",
              "    </tr>\n",
              "    <tr>\n",
              "      <th>964</th>\n",
              "      <td>رجاءلبعض الاخوة المشاركين : لا تفسروا الايات ...</td>\n",
              "      <td>رجاء لبعض الإخوة المشاركين : لا تفسروا الآيات ...</td>\n",
              "    </tr>\n",
              "    <tr>\n",
              "      <th>965</th>\n",
              "      <td>هذا السلاح لن يفيد إلا شركات السلاح الأمريكيه...</td>\n",
              "      <td>هذا السلاح لن يفيد إلا شركات السلاح الأمريكية ...</td>\n",
              "    </tr>\n",
              "    <tr>\n",
              "      <th>966</th>\n",
              "      <td>انا اعرف نتيجة الانتخابات من البدايه لازم يفو...</td>\n",
              "      <td>أنا أعرف نتيجة الانتخابات من البداية ، لازم يف...</td>\n",
              "    </tr>\n",
              "    <tr>\n",
              "      <th>967</th>\n",
              "      <td>يجب على الجيش البريطاني النزول الى الشوارع وا...</td>\n",
              "      <td>يجب على الجيش البريطاني النزول إلى الشوارع وإط...</td>\n",
              "    </tr>\n",
              "  </tbody>\n",
              "</table>\n",
              "<p>968 rows × 2 columns</p>\n",
              "</div>"
            ],
            "text/plain": [
              "                                              original                                          corrected\n",
              "0     لا زال كبير الشبيحه يظن ان ارواح وآلام الناس ...  لازال كبير الشبيحة يظن أن أرواح وآلام الناس أق...\n",
              "1     تراهنون يا امريكان و يا اذنابهم على مارس طيب ...  تراهنون يا أمريكان ويا أذنابهم على مارس ، طيب ...\n",
              "2     يشاع إعتقاد في المجال الجنائي أن اللص لا يميل...  يشاع اعتقاد في المجال الجنائي أن اللص لا يميل ...\n",
              "3     تعجبني المظاهرات في حمص هنا وهناك مثل ما راين...  تعجبني المظاهرات في حمص هنا وهناك مثل ما رأينا...\n",
              "4     الى مشاركه 56 انت تتكلم بالعكس الاحرار هم الذ...  إلى مشاركة 56 ، أنت تتكلم بالعكس ، الأحرار هم ...\n",
              "..                                                 ...                                                ...\n",
              "963   رحم الله شهداءنا الابرار ايها الارهابي الحقير...  رحم الله شهداءنا الأبرار . أيها الإرهابيُّ الح...\n",
              "964   رجاءلبعض الاخوة المشاركين : لا تفسروا الايات ...  رجاء لبعض الإخوة المشاركين : لا تفسروا الآيات ...\n",
              "965   هذا السلاح لن يفيد إلا شركات السلاح الأمريكيه...  هذا السلاح لن يفيد إلا شركات السلاح الأمريكية ...\n",
              "966   انا اعرف نتيجة الانتخابات من البدايه لازم يفو...  أنا أعرف نتيجة الانتخابات من البداية ، لازم يف...\n",
              "967   يجب على الجيش البريطاني النزول الى الشوارع وا...  يجب على الجيش البريطاني النزول إلى الشوارع وإط...\n",
              "\n",
              "[968 rows x 2 columns]"
            ]
          },
          "metadata": {
            "tags": []
          },
          "execution_count": 15
        }
      ]
    },
    {
      "cell_type": "code",
      "metadata": {
        "id": "uCjiS1n3s68n"
      },
      "source": [
        "test_m2 = open('/content/QALB-0.9.0-May04-2021-SharedTask/data/QALB-Dev2014.m2')\n",
        "m = test_m2.readlines()\n",
        "all = read_data(m)\n",
        "all_edited = parse_data(all)\n",
        "for i in range(len(all_edited)):\n",
        "  dev_df = dev_df.append({'original': all_edited[i][0],\n",
        "                              'corrected': apply_corrections(all_edited[i][0],all_edited[i][1:])}, ignore_index=True)"
      ],
      "execution_count": null,
      "outputs": []
    },
    {
      "cell_type": "code",
      "metadata": {
        "colab": {
          "base_uri": "https://localhost:8080/",
          "height": 406
        },
        "id": "KgMWb321tOFY",
        "outputId": "f34b76f9-05c9-4f6a-c179-8b17680d57c8"
      },
      "source": [
        "dev_df"
      ],
      "execution_count": null,
      "outputs": [
        {
          "output_type": "execute_result",
          "data": {
            "text/html": [
              "<div>\n",
              "<style scoped>\n",
              "    .dataframe tbody tr th:only-of-type {\n",
              "        vertical-align: middle;\n",
              "    }\n",
              "\n",
              "    .dataframe tbody tr th {\n",
              "        vertical-align: top;\n",
              "    }\n",
              "\n",
              "    .dataframe thead th {\n",
              "        text-align: right;\n",
              "    }\n",
              "</style>\n",
              "<table border=\"1\" class=\"dataframe\">\n",
              "  <thead>\n",
              "    <tr style=\"text-align: right;\">\n",
              "      <th></th>\n",
              "      <th>original</th>\n",
              "      <th>corrected</th>\n",
              "    </tr>\n",
              "  </thead>\n",
              "  <tbody>\n",
              "    <tr>\n",
              "      <th>0</th>\n",
              "      <td>سبحان الله الحكام العرب سيموت على الكرسي ليضه...</td>\n",
              "      <td>سبحان الله ، الحكام العرب سيموت على الكرسي ليظ...</td>\n",
              "    </tr>\n",
              "    <tr>\n",
              "      <th>1</th>\n",
              "      <td>النصر آت لا محال انشاء الله من يؤمن بالله وال...</td>\n",
              "      <td>النصر آت لا محال إن شاء الله . من يؤمن بالله و...</td>\n",
              "    </tr>\n",
              "    <tr>\n",
              "      <th>2</th>\n",
              "      <td>الى كل شخص يعتقد ان بشار الاسد سوف يخرج من سو...</td>\n",
              "      <td>إلى كل شخص يعتقد أن بشار الأسد سوف يخرج من سور...</td>\n",
              "    </tr>\n",
              "    <tr>\n",
              "      <th>3</th>\n",
              "      <td>الأسد وعصابته لحد الآن غير مستوعبين إن و رح ي...</td>\n",
              "      <td>الأسد وعصابته - لحد الآن - غير مستوعبين أنه رح...</td>\n",
              "    </tr>\n",
              "    <tr>\n",
              "      <th>4</th>\n",
              "      <td>النظام الأسدي تجاوز حتى ما فعله معمر القذافي ...</td>\n",
              "      <td>النظام الأسدي تجاوز حتى ما فعله معمر القذافي ف...</td>\n",
              "    </tr>\n",
              "    <tr>\n",
              "      <th>...</th>\n",
              "      <td>...</td>\n",
              "      <td>...</td>\n",
              "    </tr>\n",
              "    <tr>\n",
              "      <th>1012</th>\n",
              "      <td>مالي فهمانة ليش ماحدى عبيحكي عن شهداء الجيش ا...</td>\n",
              "      <td>ماني فهمانة ليش ما أحد يحكي عن شهداء الجيش الس...</td>\n",
              "    </tr>\n",
              "    <tr>\n",
              "      <th>1013</th>\n",
              "      <td>اذكر كلامه جيدا عندما قال الشاب : ( جايينك لع...</td>\n",
              "      <td>أذكر كلامه جيدا ، عندما قال الشاب : { جايينك ل...</td>\n",
              "    </tr>\n",
              "    <tr>\n",
              "      <th>1014</th>\n",
              "      <td>لقد فشلت أمريكا وإسرائيل وفرنسا وحلفائهم من ا...</td>\n",
              "      <td>لقد فشلت أمريكا ، وإسرائيل ، وفرنسا ، وحلفائهم...</td>\n",
              "    </tr>\n",
              "    <tr>\n",
              "      <th>1015</th>\n",
              "      <td>الله معنا ولن يترنا اعمالنا وحماس حركة ربانية...</td>\n",
              "      <td>الله معنا ، ولن يتر أعمالنا . وحماس حركة رباني...</td>\n",
              "    </tr>\n",
              "    <tr>\n",
              "      <th>1016</th>\n",
              "      <td>من الواضح ان حماس فى وضع غير مفهوم - وطالما ا...</td>\n",
              "      <td>من الواضح أن حماس في وضع غير مفهوم . وطالما أن...</td>\n",
              "    </tr>\n",
              "  </tbody>\n",
              "</table>\n",
              "<p>1017 rows × 2 columns</p>\n",
              "</div>"
            ],
            "text/plain": [
              "                                               original                                          corrected\n",
              "0      سبحان الله الحكام العرب سيموت على الكرسي ليضه...  سبحان الله ، الحكام العرب سيموت على الكرسي ليظ...\n",
              "1      النصر آت لا محال انشاء الله من يؤمن بالله وال...  النصر آت لا محال إن شاء الله . من يؤمن بالله و...\n",
              "2      الى كل شخص يعتقد ان بشار الاسد سوف يخرج من سو...  إلى كل شخص يعتقد أن بشار الأسد سوف يخرج من سور...\n",
              "3      الأسد وعصابته لحد الآن غير مستوعبين إن و رح ي...  الأسد وعصابته - لحد الآن - غير مستوعبين أنه رح...\n",
              "4      النظام الأسدي تجاوز حتى ما فعله معمر القذافي ...  النظام الأسدي تجاوز حتى ما فعله معمر القذافي ف...\n",
              "...                                                 ...                                                ...\n",
              "1012   مالي فهمانة ليش ماحدى عبيحكي عن شهداء الجيش ا...  ماني فهمانة ليش ما أحد يحكي عن شهداء الجيش الس...\n",
              "1013   اذكر كلامه جيدا عندما قال الشاب : ( جايينك لع...  أذكر كلامه جيدا ، عندما قال الشاب : { جايينك ل...\n",
              "1014   لقد فشلت أمريكا وإسرائيل وفرنسا وحلفائهم من ا...  لقد فشلت أمريكا ، وإسرائيل ، وفرنسا ، وحلفائهم...\n",
              "1015   الله معنا ولن يترنا اعمالنا وحماس حركة ربانية...  الله معنا ، ولن يتر أعمالنا . وحماس حركة رباني...\n",
              "1016   من الواضح ان حماس فى وضع غير مفهوم - وطالما ا...  من الواضح أن حماس في وضع غير مفهوم . وطالما أن...\n",
              "\n",
              "[1017 rows x 2 columns]"
            ]
          },
          "metadata": {
            "tags": []
          },
          "execution_count": 17
        }
      ]
    },
    {
      "cell_type": "code",
      "metadata": {
        "colab": {
          "base_uri": "https://localhost:8080/",
          "height": 53
        },
        "id": "nFDmmcXSugpe",
        "outputId": "d97ae2c1-8d3d-400d-c60a-8c3b911f488e"
      },
      "source": [
        "train_df['corrected'][1]"
      ],
      "execution_count": null,
      "outputs": [
        {
          "output_type": "execute_result",
          "data": {
            "application/vnd.google.colaboratory.intrinsic+json": {
              "type": "string"
            },
            "text/plain": [
              "'نحن ببالغ الأسى نعزي ضحايا الحادث الأليم الذي ذهب ضحيته حوالي 77 ما بين جريح ومتوفي . وأطالب من سلطات بلادي أن تطبق القانون بصرامة ، وتضرب بيد من حديد مثل هؤلاء المجرمين ، والمتهورين ، والمتسببين في مثل هذه الحوادث . رحم الله الضحايا وأسكنهم فسيح جنانه ، وألهم ذويهم الصبر والسلوان . إنا لله وإنا إليه راجعون .'"
            ]
          },
          "metadata": {
            "tags": []
          },
          "execution_count": 18
        }
      ]
    },
    {
      "cell_type": "code",
      "metadata": {
        "id": "dTDPSHbuhFFd"
      },
      "source": [
        "class preprocess:\n",
        "\n",
        "  def normalize_arabic(text):\n",
        "    text = re.sub(\"[إأآا]\", \"ا\", text)\n",
        "    text = re.sub(\"ى\", \"ي\", text)\n",
        "    #text = re.sub(\"ؤ\", \"ء\", text)\n",
        "    #text = re.sub(\"ئ\", \"ء\", text)\n",
        "    text = re.sub(\"ة\", \"ه\", text)\n",
        "    text = re.sub(\"گ\", \"ك\", text)\n",
        "    text = re.sub(\"(\\d+)([\\u0621-\\u063A\\u0641-\\u064A\\u0660-\\u066C]+)\", r\" \\1 \\2 \", text)\n",
        "    text = re.sub(\"([\\u0621-\\u063A\\u0641-\\u064A\\u0660-\\u066C]+)(\\d+)\", r\" \\1 \\2 \", text)\n",
        "    return text\n",
        "\n",
        "  def remove_diacritics(text):\n",
        "    arabic_diacritics = re.compile(\"\"\"\n",
        "                             ّ    | # Tashdid\n",
        "                             َ    | # Fatha\n",
        "                             ً    | # Tanwin Fath\n",
        "                             ُ    | # Damma\n",
        "                             ٌ    | # Tanwin Damm\n",
        "                             ِ    | # Kasra\n",
        "                             ٍ    | # Tanwin Kasr\n",
        "                             ْ    | # Sukun\n",
        "                             ـ     # Tatwil/Kashida\n",
        "                         \"\"\", re.VERBOSE)\n",
        "    text = re.sub(arabic_diacritics, '', text)\n",
        "    return text\n",
        "\n",
        "\n",
        "  def remove_punctuations(text):\n",
        "    arabic_punctuations = '''`÷×؛<>_()*&^%][ـ،/:\"؟.,'{}~¦+|!”…“–ـ'''\n",
        "    english_punctuations = string.punctuation\n",
        "    punctuations_list = arabic_punctuations + english_punctuations\n",
        "    translator = str.maketrans('', '', punctuations_list)\n",
        "    return text.translate(translator)\n",
        "\n",
        "  def remove_repeating_char(text):\n",
        "    return re.sub(r'(..)\\1+', r'\\1', text)"
      ],
      "execution_count": null,
      "outputs": []
    },
    {
      "cell_type": "code",
      "metadata": {
        "id": "sHxI6qmjhXYe"
      },
      "source": [
        "def pre(text):\n",
        "  text = preprocess.normalize_arabic(text)\n",
        "  text = preprocess.remove_repeating_char(text)\n",
        "  text = preprocess.remove_punctuations(text)\n",
        "  text = preprocess.remove_diacritics(text)\n",
        "  return text"
      ],
      "execution_count": null,
      "outputs": []
    },
    {
      "cell_type": "code",
      "metadata": {
        "id": "u-VPhoODjiSX"
      },
      "source": [
        "train_df.corrected = train_df.corrected.apply(pre)\n",
        "train_df.original = train_df.original.apply(pre)"
      ],
      "execution_count": null,
      "outputs": []
    },
    {
      "cell_type": "code",
      "metadata": {
        "colab": {
          "base_uri": "https://localhost:8080/",
          "height": 406
        },
        "id": "8GwP3br7ndDy",
        "outputId": "92f379ab-e1a5-420a-c80b-d32e80619027"
      },
      "source": [
        "train_df"
      ],
      "execution_count": null,
      "outputs": [
        {
          "output_type": "execute_result",
          "data": {
            "text/html": [
              "<div>\n",
              "<style scoped>\n",
              "    .dataframe tbody tr th:only-of-type {\n",
              "        vertical-align: middle;\n",
              "    }\n",
              "\n",
              "    .dataframe tbody tr th {\n",
              "        vertical-align: top;\n",
              "    }\n",
              "\n",
              "    .dataframe thead th {\n",
              "        text-align: right;\n",
              "    }\n",
              "</style>\n",
              "<table border=\"1\" class=\"dataframe\">\n",
              "  <thead>\n",
              "    <tr style=\"text-align: right;\">\n",
              "      <th></th>\n",
              "      <th>original</th>\n",
              "      <th>corrected</th>\n",
              "    </tr>\n",
              "  </thead>\n",
              "  <tbody>\n",
              "    <tr>\n",
              "      <th>0</th>\n",
              "      <td>الي التعليق رقم 2 اكيد ان لحكام العرب والمسلم...</td>\n",
              "      <td>الي التعليق رقم 2  اكيد ان للحكام العرب والمسل...</td>\n",
              "    </tr>\n",
              "    <tr>\n",
              "      <th>1</th>\n",
              "      <td>نحن ببالغ الاسي نعزي ضحايا الحادث اليم الذي ذ...</td>\n",
              "      <td>نحن ببالغ الاسي نعزي ضحايا الحادث اليم الذي ذه...</td>\n",
              "    </tr>\n",
              "    <tr>\n",
              "      <th>2</th>\n",
              "      <td>للاسف ان الدم المهدور عراقي لكن بشكل عام لماذ...</td>\n",
              "      <td>للاسف ان الدم المهدور عراقي  لكن بشكل عام لماذ...</td>\n",
              "    </tr>\n",
              "    <tr>\n",
              "      <th>3</th>\n",
              "      <td>واصل الثوار انتصاراتهم وحررو كل حقول النفط ال...</td>\n",
              "      <td>واصل الثوار انتصاراتهم وحرروا كل حقول النفط ال...</td>\n",
              "    </tr>\n",
              "    <tr>\n",
              "      <th>4</th>\n",
              "      <td>يا حرام علي ما يدعو نفسهم شبيحه الاسد وحزب ال...</td>\n",
              "      <td>يا حرام علي من يدعون نفسهم شبيحه الاسد وحزب ال...</td>\n",
              "    </tr>\n",
              "    <tr>\n",
              "      <th>...</th>\n",
              "      <td>...</td>\n",
              "      <td>...</td>\n",
              "    </tr>\n",
              "    <tr>\n",
              "      <th>19406</th>\n",
              "      <td>ياعالم اطفالناونسائنا وشبابنا يقتلون ليلا ونه...</td>\n",
              "      <td>يا عالم اطفالنا ونساؤنا وشبابنا يقتلون ليلا ون...</td>\n",
              "    </tr>\n",
              "    <tr>\n",
              "      <th>19407</th>\n",
              "      <td>بسم الله الرحمن الرحيم  قالوا للمري  امراه  غ...</td>\n",
              "      <td>بسم الله الرحمن الرحيم  قالوا للمري  امراه  غط...</td>\n",
              "    </tr>\n",
              "    <tr>\n",
              "      <th>19408</th>\n",
              "      <td>الله الله علي الظالمين ومن والاهم وهنيئا للمج...</td>\n",
              "      <td>الله الله علي الظالمين ومن والاهم  وهنيئا للمج...</td>\n",
              "    </tr>\n",
              "    <tr>\n",
              "      <th>19409</th>\n",
              "      <td>ان قياده فتح ل م ت ف وقياده هذه للشعب لسنوات ...</td>\n",
              "      <td>ان قياده فتح لم تف  وقياده هذه للشعب لسنوات هي...</td>\n",
              "    </tr>\n",
              "    <tr>\n",
              "      <th>19410</th>\n",
              "      <td>كانت الجزيره تنقل الاخبار عن سوريا وانا في سو...</td>\n",
              "      <td>كانت الجزيره تنقل الاخبار عن سوريا وانا في سور...</td>\n",
              "    </tr>\n",
              "  </tbody>\n",
              "</table>\n",
              "<p>19411 rows × 2 columns</p>\n",
              "</div>"
            ],
            "text/plain": [
              "                                                original                                          corrected\n",
              "0       الي التعليق رقم 2 اكيد ان لحكام العرب والمسلم...  الي التعليق رقم 2  اكيد ان للحكام العرب والمسل...\n",
              "1       نحن ببالغ الاسي نعزي ضحايا الحادث اليم الذي ذ...  نحن ببالغ الاسي نعزي ضحايا الحادث اليم الذي ذه...\n",
              "2       للاسف ان الدم المهدور عراقي لكن بشكل عام لماذ...  للاسف ان الدم المهدور عراقي  لكن بشكل عام لماذ...\n",
              "3       واصل الثوار انتصاراتهم وحررو كل حقول النفط ال...  واصل الثوار انتصاراتهم وحرروا كل حقول النفط ال...\n",
              "4       يا حرام علي ما يدعو نفسهم شبيحه الاسد وحزب ال...  يا حرام علي من يدعون نفسهم شبيحه الاسد وحزب ال...\n",
              "...                                                  ...                                                ...\n",
              "19406   ياعالم اطفالناونسائنا وشبابنا يقتلون ليلا ونه...  يا عالم اطفالنا ونساؤنا وشبابنا يقتلون ليلا ون...\n",
              "19407   بسم الله الرحمن الرحيم  قالوا للمري  امراه  غ...  بسم الله الرحمن الرحيم  قالوا للمري  امراه  غط...\n",
              "19408   الله الله علي الظالمين ومن والاهم وهنيئا للمج...  الله الله علي الظالمين ومن والاهم  وهنيئا للمج...\n",
              "19409   ان قياده فتح ل م ت ف وقياده هذه للشعب لسنوات ...  ان قياده فتح لم تف  وقياده هذه للشعب لسنوات هي...\n",
              "19410   كانت الجزيره تنقل الاخبار عن سوريا وانا في سو...  كانت الجزيره تنقل الاخبار عن سوريا وانا في سور...\n",
              "\n",
              "[19411 rows x 2 columns]"
            ]
          },
          "metadata": {
            "tags": []
          },
          "execution_count": 132
        }
      ]
    },
    {
      "cell_type": "code",
      "metadata": {
        "id": "dB0IMxJPnuvk"
      },
      "source": [
        "with open('train_data_correct.txt','w') as f:\n",
        "  for i in range(len(train_df)):\n",
        "    f.write(train_df['corrected'][i]+'\\n')"
      ],
      "execution_count": null,
      "outputs": []
    },
    {
      "cell_type": "code",
      "metadata": {
        "id": "AnQjYoAJn5EU"
      },
      "source": [
        "with open('train_data_wrong.txt','w') as f:\n",
        "  for i in range(len(train_df)):\n",
        "    f.write(train_df['original'][i]+'\\n')"
      ],
      "execution_count": null,
      "outputs": []
    }
  ]
}